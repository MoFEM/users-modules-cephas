{
 "cells": [
  {
   "cell_type": "code",
   "execution_count": 4,
   "metadata": {},
   "outputs": [
    {
     "name": "stdout",
     "output_type": "stream",
     "text": [
      "/Users/likask/mofem_install/mofem-cephas/mofem/users_modules/tutorials/adv-0\n",
      "zsh:1: no matches found: out_*\n",
      "zsh:1: no such file or directory: ./plastic_2d\n"
     ]
    }
   ],
   "source": [
    "!pwd\n",
    "\n",
    "# Material parameters\n",
    "young_modulus=1\n",
    "poisson_ratio=0.\n",
    "hardening=0.1\n",
    "yield_stress=1\n",
    "\n",
    "number_of_steps=10\n",
    "nb_elastic_steps=30\n",
    "max_von_misses_fisrt_elastic_step = 4.647031123\n",
    "\n",
    "# Load step and tolarence\n",
    "elastic_step=True\n",
    "\n",
    "if elastic_step:\n",
    "    load_step=1\n",
    "    final_load=1*load_step\n",
    "    yield_stress=1e32 # Make yield stress very big to have elastic step\n",
    "else:\n",
    "    load_step=(yield_stress/max_von_misses_fisrt_elastic_step)/nb_elastic_steps\n",
    "    final_load=number_of_steps*load_step\n",
    "\n",
    "realative_tolerance=1e-12\n",
    "absolute_tolerance=1e-12\n",
    "\n",
    "!rm -f out_*\n",
    "!./plastic_2d \\\n",
    "-file_name test1.cub \\\n",
    "-ts_dt {load_step} \\\n",
    "-ts_max_time {final_load} \\\n",
    "-snes_atol {absolute_tolerance} \\\n",
    "-snes_rtol {realative_tolerance} \\\n",
    "-large_strains 0 \\\n",
    "-scale 1 \\\n",
    "-order 2 \\\n",
    "-young_modulus {young_modulus} \\\n",
    "-poisson_ratio {poisson_ratio} \\\n",
    "-hardening {hardening} \\\n",
    "-hardening_viscous 0 \\\n",
    "-yield_stress {yield_stress}"
   ]
  },
  {
   "cell_type": "code",
   "execution_count": null,
   "metadata": {},
   "outputs": [],
   "source": []
  }
 ],
 "metadata": {
  "interpreter": {
   "hash": "ac2eaa0ea0ebeafcc7822e65e46aa9d4f966f30b695406963e145ea4a91cd4fc"
  },
  "kernelspec": {
   "display_name": "Python 3.9.4 64-bit",
   "language": "python",
   "name": "python3"
  },
  "language_info": {
   "codemirror_mode": {
    "name": "ipython",
    "version": 3
   },
   "file_extension": ".py",
   "mimetype": "text/x-python",
   "name": "python",
   "nbconvert_exporter": "python",
   "pygments_lexer": "ipython3",
   "version": "3.9.12"
  },
  "orig_nbformat": 4
 },
 "nbformat": 4,
 "nbformat_minor": 2
}
