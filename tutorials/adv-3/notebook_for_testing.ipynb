{
 "cells": [
  {
   "cell_type": "code",
   "execution_count": null,
   "metadata": {},
   "outputs": [],
   "source": [
    "\n",
    "import matplotlib.pyplot as plt\n",
    "import numpy as np\n",
    "import pandas as pd\n",
    "\n",
    "mofem_um_dir=\"/home/karol/mofem_install/users_modules\""
   ]
  },
  {
   "cell_type": "code",
   "execution_count": null,
   "metadata": {},
   "outputs": [],
   "source": [
    "# global parameters\n",
    "\n",
    "max_time=5\n",
    "ts_MAX_steps=500\n",
    "enforce_velocity=0\n",
    "log_file='log'\n",
    "\n",
    "\n",
    "def run_test(order, penalty, phi, nitsche, mesh=\"adv3_plast_2D.cub\"):\n",
    "  !make >> /dev/null\n",
    "  !./ale_plastic_2d \\\n",
    "    -file_name {mesh} \\\n",
    "    -order {order} -penalty {penalty} -phi {phi} -nitsche {nitsche} \\\n",
    "    -base ainsworth -yield_stress 400 \\\n",
    "    -ts_adapt_type basic -ts_dt 0.01 -ts_adapt_dt_max 0.05 -ts_adapt_dt_min 0.0005 -ts_max_time {max_time} \\\n",
    "    -ts_adapt_monitor 0 -ts_max_steps {ts_MAX_steps} -is_ale 1 \\\n",
    "    -snes_type newtonls -snes_linesearch_type bt -snes_linesearch_max_it 3 \\\n",
    "    -ts_type beuler \\\n",
    "    -ts_theta_initial_guess_extrapolate 1 \\\n",
    "    -ts_theta_theta 1 \\\n",
    "    -test_penalty 1 -test_convection 1 -max_load_time 1 -angular_velocity 0.05 -test_H1 0 \\\n",
    "    -snes_atol 1e-6 -snes_rtol 1e-6 -snes_max_it 10 -is_cut_off 0 -snes_fd 0  -enforce_vel_vector {enforce_velocity} 2>&1 | tee {log_file}\n",
    "    \n",
    "    # &> overwrites output without showing in the terminal\n",
    "     \n",
    "    # process the log file\n",
    "  !rm -f reaction1  \n",
    "  !grep \"dissipation\" log | awk '{print $5 \",\" $8 \",\" $10 \",\" $12}'  &>> reaction1\n",
    "\n",
    "  return 0\n",
    "\n",
    "# run_test(2, 1e2, 0, 0)\n",
    "run_test(2, 1e2, 0, 0)\n",
    "# run_test(2, 1e2, 0, 0, mesh=\"adv3_plast_2D_fine.cub\")\n",
    "\n",
    "#   l2_norm =!grep L2 log | tail -n 1 | awk '{print $6}'\n",
    "#   l2_norm = float(l2_norm[0])\n",
    "#   energy_norm =!grep Energetic log | awk '{print $6}'\n",
    "#   energy_norm = float(energy_norm[0])\n",
    "#   h1_norm =!grep H1 log | awk '{print $6}'\n",
    "#   h1_norm = float(h1_norm[0])       \n",
    "#   return [l2_norm, energy_norm, h1_norm]\n",
    "  \n",
    "# [l2_norm, energy_norm, h1_norm] = run_test(1, 1e2, -1, 0)\n",
    "# print('L2 norm %6.4e ' % l2_norm)\n",
    "# print('Energy norm %6.4e ' % energy_norm)\n",
    "# print('H1 norm %6.4e ' % h1_norm)\n",
    "\n",
    "#!{mbconvert} out_result.h5m out_result.vtk"
   ]
  },
  {
   "cell_type": "code",
   "execution_count": null,
   "metadata": {},
   "outputs": [],
   "source": [
    "# playing with \n",
    "\n",
    "reaction_data=pd.read_csv('reaction1', header=None)\n",
    "reaction_data=reaction_data.rename(columns={0: \"Time\", 1: \"energy\", 2: \"diss\", 3: 'eta'})\n",
    "# print(reaction_data)\n",
    "\n",
    "# reaction_data=reaction_data.drop([0, 1, 2, 3], axis=1)\n",
    "\n",
    "\n",
    "# reaction_data=reaction_data[4].str.split(' ', expand=True)\n",
    "# reaction_data=reaction_data.drop([1, 2, 4, 6], axis=1)\n",
    "# reaction_data=reaction_data.rename(columns={0: \"Time\", 3: \"X\", 5: \"Y\", 7: 'Z'})\n",
    "\n",
    "mult_factor=1e4\n",
    "\n",
    "reaction_data['Time'] = reaction_data['Time'].astype(float)\n",
    "reaction_data['energy'] = reaction_data['energy'].astype(float)\n",
    "reaction_data['diss'] = reaction_data['diss'].astype(float)\n",
    "reaction_data['eta'] = reaction_data['eta'].astype(float)\n",
    "\n",
    "# reaction_data['D']=reaction_data['Time'].to_numpy()*radius1 # indentation depth\n",
    "plt.rcParams['figure.figsize'] = [15,5]\n",
    "fig, ax = plt.subplots(1,3)\n",
    "\n",
    "# plt.title('Reaction Indenter')\n",
    "# plt.ylabel('Time')\n",
    "# plt.xlabel('Indenter depth')\n",
    "# plt.grid(True)\n",
    "# plt.legend()\n",
    "\n",
    "ax[0].plot(reaction_data['Time'].to_numpy(),reaction_data['energy'].to_numpy()*mult_factor,'r^-', label='energy')\n",
    "ax[1].plot(reaction_data['Time'].to_numpy(),reaction_data['diss'].to_numpy()*mult_factor,'g^-', label='dissipation')\n",
    "ax[2].plot(reaction_data['Time'].to_numpy(),reaction_data['eta'].to_numpy(),'b^-', label='eta')\n",
    "\n",
    "for a in range(3):\n",
    "  ax[a].grid(True)\n",
    "  ax[a].legend(loc='upper right', shadow=True, fontsize='large')\n",
    "\n",
    "ax[2].legend(loc='lower right', shadow=True, fontsize='large')\n",
    "\n",
    "# plt.show()\n",
    "plt.savefig(\"test_with_enforce_vel_{}.jpg\".format(enforce_velocity), dpi=150)"
   ]
  },
  {
   "cell_type": "code",
   "execution_count": null,
   "metadata": {},
   "outputs": [],
   "source": [
    "!{mofem_um_dir}/tools/convert.py -np 12 out_*h5m"
   ]
  }
 ],
 "metadata": {
  "kernelspec": {
   "display_name": "Python 3.8.6 64-bit",
   "language": "python",
   "name": "python3"
  },
  "language_info": {
   "codemirror_mode": {
    "name": "ipython",
    "version": 3
   },
   "file_extension": ".py",
   "mimetype": "text/x-python",
   "name": "python",
   "nbconvert_exporter": "python",
   "pygments_lexer": "ipython3",
   "version": "3.8.6"
  },
  "orig_nbformat": 4,
  "vscode": {
   "interpreter": {
    "hash": "b8a083dc21f9e596d186b22f3d95ce67908091fb409bf60bc1e9b21d2132dc33"
   }
  }
 },
 "nbformat": 4,
 "nbformat_minor": 2
}
